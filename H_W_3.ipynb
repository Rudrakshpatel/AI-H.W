{
  "nbformat": 4,
  "nbformat_minor": 0,
  "metadata": {
    "colab": {
      "name": "H.W.- 3.ipynb",
      "provenance": []
    },
    "kernelspec": {
      "name": "python3",
      "display_name": "Python 3"
    },
    "language_info": {
      "name": "python"
    }
  },
  "cells": [
    {
      "cell_type": "code",
      "execution_count": 1,
      "metadata": {
        "colab": {
          "base_uri": "https://localhost:8080/"
        },
        "id": "x9JcJR3FiXcx",
        "outputId": "a4272c69-4cb3-448f-a2fa-7439bcffa543"
      },
      "outputs": [
        {
          "output_type": "stream",
          "name": "stdout",
          "text": [
            "*\n",
            "**\n",
            "***\n",
            "****\n",
            "*****\n"
          ]
        }
      ],
      "source": [
        "for i in range (5):\n",
        "  for j in range (i+1):\n",
        "    print(\"*\",end=\"\")\n",
        "\n",
        "  print()  \n"
      ]
    },
    {
      "cell_type": "code",
      "source": [
        "for i in range (5):\n",
        "  for j in range (5-i):\n",
        "    print(\"*\",end=\"\")\n",
        "\n",
        "  print()   "
      ],
      "metadata": {
        "colab": {
          "base_uri": "https://localhost:8080/"
        },
        "id": "R9xmGDP-izuT",
        "outputId": "62d80f71-63bf-46aa-8b01-d5ad97b935a7"
      },
      "execution_count": 2,
      "outputs": [
        {
          "output_type": "stream",
          "name": "stdout",
          "text": [
            "*****\n",
            "****\n",
            "***\n",
            "**\n",
            "*\n"
          ]
        }
      ]
    },
    {
      "cell_type": "code",
      "source": [
        "\n",
        "\n",
        "def triangle(n):\n",
        "     \n",
        "    \n",
        "    k = n - 1\n",
        "    \n",
        "    for i in range(0, n):\n",
        "     \n",
        "        \n",
        "        for j in range(0, k):\n",
        "            print(end=\" \")\n",
        "     \n",
        "        \n",
        "        k = k - 1\n",
        "     \n",
        "        \n",
        "        for j in range(0,i+1):\n",
        "         \n",
        "            \n",
        "            print(\" *\",end=\"\")\n",
        "            \n",
        "            \n",
        "        print(\"\\r\")\n",
        "\n",
        "n = 5\n",
        "triangle(n)"
      ],
      "metadata": {
        "colab": {
          "base_uri": "https://localhost:8080/"
        },
        "id": "H5M6xWa0i9eS",
        "outputId": "79865425-5395-48e0-d54c-e10814ea7d32"
      },
      "execution_count": 3,
      "outputs": [
        {
          "output_type": "stream",
          "name": "stdout",
          "text": [
            "     *\r\n",
            "    * *\r\n",
            "   * * *\r\n",
            "  * * * *\r\n",
            " * * * * *\r\n"
          ]
        }
      ]
    },
    {
      "cell_type": "code",
      "source": [
        "rows = int(input(\"Enter number of rows: \"))\n",
        "\n",
        "k = 0\n",
        "\n",
        "for i in range(1, rows+1):\n",
        "    for space in range(1, (rows-i)+1):\n",
        "        print(end=\"  \")\n",
        "   \n",
        "    while k!=(2*i-1):\n",
        "        print(\"* \", end=\"\")\n",
        "        k += 1\n",
        "   \n",
        "    k = 0\n",
        "    print()"
      ],
      "metadata": {
        "colab": {
          "base_uri": "https://localhost:8080/"
        },
        "id": "dxO5cYGYjEuJ",
        "outputId": "95f6e3fc-20cd-4aaf-83ab-c07883224d0d"
      },
      "execution_count": 4,
      "outputs": [
        {
          "output_type": "stream",
          "name": "stdout",
          "text": [
            "Enter number of rows: 3\n",
            "    * \n",
            "  * * * \n",
            "* * * * * \n"
          ]
        }
      ]
    }
  ]
}